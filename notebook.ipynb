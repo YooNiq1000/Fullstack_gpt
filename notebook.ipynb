{
 "cells": [
  {
   "cell_type": "code",
   "execution_count": null,
   "metadata": {},
   "outputs": [
    {
     "data": {
      "text/plain": [
       "(\"\\n\\nAs of now, there are eight recognized planets in our solar system: Mercury, Venus, Earth, Mars, Jupiter, Saturn, Uranus, and Neptune. However, there may be additional planets beyond Neptune's orbit that have not yet been discovered or officially classified. Some scientists also consider Pluto to be a planet, but it is currently classified as a dwarf planet.\",\n",
       " 'As of my last knowledge update in October 2023, there are eight recognized planets in our solar system. These are:\\n\\n1. Mercury\\n2. Venus\\n3. Earth\\n4. Mars\\n5. Jupiter\\n6. Saturn\\n7. Uranus\\n8. Neptune\\n\\nIn addition to these, there are also five recognized dwarf planets, with Pluto being the most well-known among them. Beyond our solar system, there are thousands of confirmed exoplanets (planets outside our solar system) that have been discovered, with many more likely yet to be identified. The exact number of these exoplanets is continually increasing as new discoveries are made.')"
      ]
     },
     "execution_count": 15,
     "metadata": {},
     "output_type": "execute_result"
    }
   ],
   "source": [
    "from langchain.llms.openai import OpenAI\n",
    "from langchain.chat_models import ChatOpenAI, ChatAnthropic\n",
    "\n",
    "\n",
    "# 아래 model_name 부분에서 사용가능한 모델은 어떻게 확인하는가?\n",
    "llm = OpenAI(model_name = \"gpt-3.5-turbo-instruct\")\n",
    "\n",
    "chat = ChatOpenAI(model_name=\"gpt-4o-mini-2024-07-18\")\n",
    "\n",
    "a = llm.predict(\"How many planets are there?\")\n",
    "b = chat.predict(\"How many planets are there?\")\n",
    "\n",
    "a, b\n",
    "\n",
    "# 처음 실행시 text-davinci-003 모델이 더 이상 지원되지 않는다는 에러가 뜸\n",
    "# 그래서 pip install --upgrade langchain 실행해줬는데 다른 에러가 뜸\n",
    "# 에러메세지에서 pip install -U langchain-community 를 해주라 해서 실행\n",
    "# 그 후 에러에서  pip install -U langchain-openai 설치하고 나서부터 에러없음\n",
    "\n",
    "\n",
    "\n",
    "\n",
    "\n"
   ]
  },
  {
   "cell_type": "code",
   "execution_count": 10,
   "metadata": {},
   "outputs": [
    {
     "name": "stdout",
     "output_type": "stream",
     "text": [
      "gpt-4o-audio-preview-2024-12-17\n",
      "dall-e-3\n",
      "gpt-4o-realtime-preview-2024-12-17\n",
      "dall-e-2\n",
      "gpt-4o-audio-preview-2024-10-01\n",
      "o1-pro-2025-03-19\n",
      "gpt-4o-transcribe\n",
      "gpt-4o-realtime-preview-2024-10-01\n",
      "gpt-4o-mini-transcribe\n",
      "babbage-002\n",
      "gpt-4o-mini-tts\n",
      "tts-1-hd-1106\n",
      "text-embedding-3-large\n",
      "o1-2024-12-17\n",
      "gpt-4\n",
      "o1-pro\n",
      "tts-1-hd\n",
      "gpt-4o-mini-audio-preview\n",
      "gpt-4o-audio-preview\n",
      "o1-preview-2024-09-12\n",
      "gpt-4o-realtime-preview\n",
      "gpt-3.5-turbo-instruct-0914\n",
      "gpt-4o-mini-search-preview\n",
      "tts-1-1106\n",
      "davinci-002\n",
      "gpt-3.5-turbo-1106\n",
      "gpt-4o-search-preview\n",
      "gpt-4-turbo\n",
      "gpt-3.5-turbo-instruct\n",
      "gpt-3.5-turbo\n",
      "gpt-4o-mini-search-preview-2025-03-11\n",
      "gpt-4o-mini-realtime-preview\n",
      "chatgpt-4o-latest\n",
      "whisper-1\n",
      "gpt-3.5-turbo-0125\n",
      "gpt-4-turbo-2024-04-09\n",
      "gpt-3.5-turbo-16k\n",
      "gpt-4o-mini-realtime-preview-2024-12-17\n",
      "o3-mini-2025-01-31\n",
      "o3-mini\n",
      "gpt-4-1106-preview\n",
      "text-embedding-ada-002\n",
      "o1-preview\n",
      "gpt-4-0613\n",
      "gpt-4-0125-preview\n",
      "gpt-4.5-preview\n",
      "gpt-4-turbo-preview\n",
      "gpt-4.5-preview-2025-02-27\n",
      "gpt-4o-search-preview-2025-03-11\n",
      "omni-moderation-latest\n",
      "gpt-4o-2024-11-20\n",
      "tts-1\n",
      "omni-moderation-2024-09-26\n",
      "o1\n",
      "text-embedding-3-small\n",
      "gpt-4o\n",
      "gpt-4o-mini\n",
      "gpt-4o-2024-05-13\n",
      "gpt-4o-2024-08-06\n",
      "gpt-4o-mini-2024-07-18\n",
      "o1-mini\n",
      "gpt-4o-mini-audio-preview-2024-12-17\n",
      "o1-mini-2024-09-12\n"
     ]
    }
   ],
   "source": [
    "import openai\n",
    "\n",
    "models = openai.Model.list()\n",
    "\n",
    "for model in models[\"data\"]:\n",
    "  print(model[\"id\"])\n",
    "  \n",
    "  "
   ]
  }
 ],
 "metadata": {
  "kernelspec": {
   "display_name": "env",
   "language": "python",
   "name": "python3"
  },
  "language_info": {
   "codemirror_mode": {
    "name": "ipython",
    "version": 3
   },
   "file_extension": ".py",
   "mimetype": "text/x-python",
   "name": "python",
   "nbconvert_exporter": "python",
   "pygments_lexer": "ipython3",
   "version": "3.11.6"
  }
 },
 "nbformat": 4,
 "nbformat_minor": 2
}
