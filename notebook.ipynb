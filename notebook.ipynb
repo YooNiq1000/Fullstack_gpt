{
 "cells": [
  {
   "cell_type": "code",
   "execution_count": null,
   "metadata": {},
   "outputs": [
    {
     "data": {
      "text/plain": [
       "'What is the distance between Mexico and Thailand'"
      ]
     },
     "execution_count": 3,
     "metadata": {},
     "output_type": "execute_result"
    }
   ],
   "source": [
    "from langchain.chat_models import ChatOpenAI\n",
    "from langchain.prompts import PromptTemplate, ChatPromptTemplate\n",
    "#ChatPromptTemplate : prompt를 message로 부터 생성\n",
    "#PromptTemplate : String으로 prompt 생성\n",
    "\n",
    "chat = ChatOpenAI(\n",
    "  model_name=\"gpt-4o-mini-2024-07-18\",\n",
    "  temperature = 0.1 #degree of creativity of model\n",
    "  \n",
    "  )\n",
    "\n",
    "template = PromptTemplate.from_template(\"What is the distance between {country_a} and {country_b}\")\n",
    "#{} : placeholder \n",
    "\n",
    "template.format(country_a = \"Mexico\", country_b = \"Thailand\")\n"
   ]
  },
  {
   "cell_type": "code",
   "execution_count": 4,
   "metadata": {},
   "outputs": [
    {
     "data": {
      "text/plain": [
       "'The distance between Mexico and Thailand varies depending on the specific locations you are measuring from and to. However, if we consider the distance between the capitals—Mexico City (Mexico) and Bangkok (Thailand)—the approximate distance is around 8,500 miles (about 13,600 kilometers) when measured in a straight line (great circle distance). Actual travel distances may vary depending on the flight path or route taken.'"
      ]
     },
     "execution_count": 4,
     "metadata": {},
     "output_type": "execute_result"
    }
   ],
   "source": [
    "prompt = template.format(country_a = \"Mexico\", country_b = \"Thailand\")\n",
    "\n",
    "chat.predict(prompt)"
   ]
  },
  {
   "cell_type": "code",
   "execution_count": 9,
   "metadata": {},
   "outputs": [
    {
     "data": {
      "text/plain": [
       "AIMessage(content='한국과 일본 간의 거리는 약 200km에서 300km 정도입니다. 두 나라의 가장 가까운 지점은 인천과 일본의 후쿠오카 사이입니다. 제 이름은 쏘크라테스입니다!')"
      ]
     },
     "execution_count": 9,
     "metadata": {},
     "output_type": "execute_result"
    }
   ],
   "source": [
    "\n",
    "template = ChatPromptTemplate.from_messages([\n",
    "  (\"system\", \"You are a geography expert. And you only reply in {language}\"),\n",
    "  (\"ai\", \"안녕, 내 이름은 {name}!\"),\n",
    "  (\"human\", \"What is the distance between {country_a} and {country_b}. Also, What is your name?\")   \n",
    "])\n",
    "\n",
    "prompt = template.format_messages(\n",
    "  language = \"Korean\",\n",
    "  name = \"쏘크라테스\",\n",
    "  country_a = \"한국\",\n",
    "  country_b = \"일본\",\n",
    ")\n",
    "\n",
    "chat.predict_messages(prompt)\n",
    "\n",
    "\n"
   ]
  }
 ],
 "metadata": {
  "kernelspec": {
   "display_name": "env",
   "language": "python",
   "name": "python3"
  },
  "language_info": {
   "codemirror_mode": {
    "name": "ipython",
    "version": 3
   },
   "file_extension": ".py",
   "mimetype": "text/x-python",
   "name": "python",
   "nbconvert_exporter": "python",
   "pygments_lexer": "ipython3",
   "version": "3.11.6"
  }
 },
 "nbformat": 4,
 "nbformat_minor": 2
}
